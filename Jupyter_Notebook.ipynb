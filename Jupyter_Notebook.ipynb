{
 "cells": [
  {
   "cell_type": "markdown",
   "metadata": {},
   "source": [
    "<center>\n",
    "    <img src=\"https://cf-courses-data.s3.us.cloud-object-storage.appdomain.cloud/IBMDeveloperSkillsNetwork-DS0105EN-SkillsNetwork/labs/Module2/images/SN_web_lightmode.png\" width=\"300\" alt=\"cognitiveclass.ai logo\">\n",
    "</center>\n"
   ]
  },
  {
   "cell_type": "markdown",
   "metadata": {},
   "source": [
    "#### Add your code below following the instructions given in the course\n"
   ]
  },
  {
   "cell_type": "markdown",
   "metadata": {
    "tags": []
   },
   "source": [
    "# My Notebook Title"
   ]
  },
  {
   "cell_type": "markdown",
   "metadata": {
    "tags": []
   },
   "source": [
    "## Introduction\n",
    "\n",
    "Welcome to my Jupyter Notebook! In this notebook, we will explore various data analysis techniques, visualize data, and draw insights from our findings. We'll start by loading our dataset and performing some initial data exploration.\n"
   ]
  },
  {
   "cell_type": "markdown",
   "metadata": {
    "tags": []
   },
   "source": [
    "### Data Science Languages\n",
    "\n",
    "- Python\n",
    "- R\n",
    "- Julia\n",
    "- SQL\n",
    "- SAS\n",
    "- Java\n",
    "- Scala\n"
   ]
  },
  {
   "cell_type": "markdown",
   "metadata": {
    "tags": []
   },
   "source": [
    "### Data Science Libraries\n",
    "\n",
    "- Pandas\n",
    "- NumPy\n",
    "- Matplotlib\n",
    "- Seaborn\n",
    "- Scikit-Learn\n",
    "- TensorFlow\n",
    "- Keras\n",
    "- PyTorch\n",
    "- Statsmodels\n",
    "- NLTK (Natural Language Toolkit)\n"
   ]
  },
  {
   "cell_type": "markdown",
   "metadata": {},
   "source": [
    "### Data Science Tools\n",
    "\n",
    "| Tool            | Description                                       | Website                            |\n",
    "|-----------------|---------------------------------------------------|------------------------------------|\n",
    "| Python          | A versatile programming language                  | [python.org](https://www.python.org/) |\n",
    "| R               | Statistical computing and graphics                | [r-project.org](https://www.r-project.org/) |\n",
    "| Jupyter Notebook| Interactive computing environment                  | [jupyter.org](https://jupyter.org/) |\n",
    "| Pandas          | Data manipulation and analysis library            | [pandas.pydata.org](https://pandas.pydata.org/) |\n",
    "| NumPy           | Numerical computing library                        | [numpy.org](https://numpy.org/) |\n",
    "| Matplotlib      | Data visualization library                         | [matplotlib.org](https://matplotlib.org/) |\n",
    "| Scikit-Learn    | Machine learning library                           | [scikit-learn.org](https://scikit-learn.org/) |\n",
    "| TensorFlow      | Open-source machine learning framework             | [tensorflow.org](https://www.tensorflow.org/) |\n",
    "| PyTorch         | Deep learning framework                            | [pytorch.org](https://pytorch.org/) |\n",
    "| SQL             | Query language for managing relational databases  | -                                  |\n"
   ]
  },
  {
   "cell_type": "markdown",
   "metadata": {},
   "source": [
    "## Introduction to Arithmetic Expression Examples\n",
    "\n",
    "In this section, we will explore various arithmetic expressions and operations commonly used in mathematics and programming. We will cover basic arithmetic operations such as addition, subtraction, multiplication, and division, as well as more complex expressions involving parentheses and order of operations (PEMDAS/BODMAS).\n"
   ]
  },
  {
   "cell_type": "code",
   "execution_count": 4,
   "metadata": {
    "tags": []
   },
   "outputs": [
    {
     "data": {
      "text/plain": [
       "(35, 12)"
      ]
     },
     "execution_count": 4,
     "metadata": {},
     "output_type": "execute_result"
    }
   ],
   "source": [
    "# Define two numbers\n",
    "num1 = 5\n",
    "num2 = 7\n",
    "\n",
    "# Multiply the numbers\n",
    "result_multiply = num1 * num2\n",
    "\n",
    "# Add the numbers\n",
    "result_add = num1 + num2\n",
    "\n",
    "# Print the results\n",
    "result_multiply, result_add\n"
   ]
  },
  {
   "cell_type": "code",
   "execution_count": 5,
   "metadata": {
    "tags": []
   },
   "outputs": [
    {
     "data": {
      "text/plain": [
       "2.0"
      ]
     },
     "execution_count": 5,
     "metadata": {},
     "output_type": "execute_result"
    }
   ],
   "source": [
    "# Define the number of minutes\n",
    "minutes = 120  # Change this to the number of minutes you want to convert\n",
    "\n",
    "# Convert minutes to hours\n",
    "hours = minutes / 60\n",
    "\n",
    "# Print the result\n",
    "hours\n"
   ]
  },
  {
   "cell_type": "markdown",
   "metadata": {},
   "source": [
    "## Objectives\n",
    "\n",
    "- Learn the basics of Markdown formatting.\n",
    "- Insert code cells and Markdown cells.\n",
    "- Create headings and subheadings.\n",
    "- Add lists and tables to your notebook.\n",
    "- Run code cells and view the output.\n",
    "- Save and export your Jupyter Notebook.\n"
   ]
  },
  {
   "cell_type": "markdown",
   "metadata": {
    "tags": []
   },
   "source": [
    "## Author\n",
    "\n",
    "John Doe\n"
   ]
  },
  {
   "cell_type": "code",
   "execution_count": null,
   "metadata": {},
   "outputs": [],
   "source": []
  }
 ],
 "metadata": {
  "kernelspec": {
   "display_name": "Python",
   "language": "python",
   "name": "conda-env-python-py"
  },
  "language_info": {
   "codemirror_mode": {
    "name": "ipython",
    "version": 3
   },
   "file_extension": ".py",
   "mimetype": "text/x-python",
   "name": "python",
   "nbconvert_exporter": "python",
   "pygments_lexer": "ipython3",
   "version": "3.7.12"
  }
 },
 "nbformat": 4,
 "nbformat_minor": 4
}
